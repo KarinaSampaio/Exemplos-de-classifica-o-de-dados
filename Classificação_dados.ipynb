{
 "cells": [
  {
   "metadata": {},
   "cell_type": "markdown",
   "source": [
    "## Descrição do caso\n",
    "https://www.kaggle.com/datasets/bhadramohit/mental-health-dataset"
   ],
   "id": "4470d7a294445254"
  },
  {
   "metadata": {},
   "cell_type": "markdown",
   "source": [
    "## Compreensivos Insights sobre Saúde Mental: Um Conjunto de Dados Diversificado de 1000 Indivíduos Através de Profissões, Países e Estilos de Vida\n",
    "\n",
    "Este conjunto de dados oferece uma coleção rica de informações anônimas sobre saúde mental de 1000 indivíduos, representando uma ampla gama de idades, gêneros, profissões e países. O objetivo é esclarecer os diversos fatores que afetam a saúde mental, oferecendo insights valiosos sobre níveis de estresse, padrões de sono, equilíbrio entre trabalho e vida pessoal e atividade física.\n",
    "\n",
    "Principais Características:\n",
    "\n",
    "Demografia: O conjunto de dados inclui indivíduos de diversos países, como EUA, Índia, Reino Unido, Canadá e Austrália. Cada registro captura informações demográficas importantes, como idade, gênero e ocupação (por exemplo, TI, Saúde, Educação, Engenharia).\n",
    "\n",
    "Condições de Saúde Mental: O conjunto de dados contém informações sobre se os indivíduos relataram problemas de saúde mental (Sim/Não), juntamente com a gravidade dessas condições, categorizadas em Baixa, Média ou Alta.\n",
    "\n",
    "Histórico de Consultas: Para indivíduos com condições de saúde mental, o conjunto de dados indica se eles consultaram um profissional de saúde mental.\n",
    "Níveis de Estresse: O nível de estresse de cada indivíduo é classificado como Baixo, Médio ou Alto, fornecendo insights sobre como diferentes fatores, como horas de trabalho ou sono, podem se correlacionar com o bem-estar mental.\n",
    "\n",
    "Fatores de Estilo de Vida: O conjunto de dados inclui informações sobre duração do sono, horas de trabalho por semana e horas de atividade física semanal, oferecendo uma visão detalhada de como os fatores de estilo de vida contribuem para a saúde mental.\n",
    "\n",
    "Este conjunto de dados pode ser usado para pesquisa, análise ou modelos de aprendizado de máquina para prever tendências de saúde mental, descobrir correlações entre equilíbrio entre trabalho e vida pessoal e bem-estar mental, e explorar o impacto do estresse e da atividade física na saúde mental."
   ],
   "id": "62dbdc6d283c1ee6"
  },
  {
   "metadata": {},
   "cell_type": "markdown",
   "source": "## Carregar Dados",
   "id": "703f001e543af7d4"
  },
  {
   "metadata": {
    "ExecuteTime": {
     "end_time": "2024-11-08T19:17:16.894137Z",
     "start_time": "2024-11-08T19:17:12.216026Z"
    }
   },
   "cell_type": "code",
   "source": [
    "# importar bibliotecas\n",
    "import pandas as pd\n",
    "import numpy as np"
   ],
   "id": "3bd85aa80af27d6e",
   "outputs": [],
   "execution_count": 2
  },
  {
   "metadata": {
    "ExecuteTime": {
     "end_time": "2024-11-08T19:17:16.966918Z",
     "start_time": "2024-11-08T19:17:16.897194Z"
    }
   },
   "cell_type": "code",
   "source": [
    "\n",
    "# Importar dados \n",
    "# Carregar o dataset\n",
    "mental_health = pd.read_csv('C:/Users/karin/OneDrive/Área de Trabalho/data science/mental_health_dataset.csv')\n",
    "\n",
    "# Exibir as primeiras linhas para verificar\n",
    "mental_health.head()"
   ],
   "id": "7f76033a7b74fd38",
   "outputs": [
    {
     "data": {
      "text/plain": [
       "   User_ID  Age      Gender  Occupation    Country Mental_Health_Condition  \\\n",
       "0        1   36  Non-binary       Sales     Canada                      No   \n",
       "1        2   34      Female   Education         UK                     Yes   \n",
       "2        3   65  Non-binary       Sales        USA                     Yes   \n",
       "3        4   34        Male       Other  Australia                      No   \n",
       "4        5   22      Female  Healthcare     Canada                     Yes   \n",
       "\n",
       "  Severity Consultation_History Stress_Level  Sleep_Hours  Work_Hours  \\\n",
       "0   Medium                  Yes       Medium          7.1          46   \n",
       "1      NaN                   No          Low          7.5          47   \n",
       "2     High                   No          Low          8.4          58   \n",
       "3      Low                   No       Medium          9.8          30   \n",
       "4      Low                   No       Medium          4.9          62   \n",
       "\n",
       "   Physical_Activity_Hours  \n",
       "0                        5  \n",
       "1                        8  \n",
       "2                       10  \n",
       "3                        2  \n",
       "4                        5  "
      ],
      "text/html": [
       "<div>\n",
       "<style scoped>\n",
       "    .dataframe tbody tr th:only-of-type {\n",
       "        vertical-align: middle;\n",
       "    }\n",
       "\n",
       "    .dataframe tbody tr th {\n",
       "        vertical-align: top;\n",
       "    }\n",
       "\n",
       "    .dataframe thead th {\n",
       "        text-align: right;\n",
       "    }\n",
       "</style>\n",
       "<table border=\"1\" class=\"dataframe\">\n",
       "  <thead>\n",
       "    <tr style=\"text-align: right;\">\n",
       "      <th></th>\n",
       "      <th>User_ID</th>\n",
       "      <th>Age</th>\n",
       "      <th>Gender</th>\n",
       "      <th>Occupation</th>\n",
       "      <th>Country</th>\n",
       "      <th>Mental_Health_Condition</th>\n",
       "      <th>Severity</th>\n",
       "      <th>Consultation_History</th>\n",
       "      <th>Stress_Level</th>\n",
       "      <th>Sleep_Hours</th>\n",
       "      <th>Work_Hours</th>\n",
       "      <th>Physical_Activity_Hours</th>\n",
       "    </tr>\n",
       "  </thead>\n",
       "  <tbody>\n",
       "    <tr>\n",
       "      <th>0</th>\n",
       "      <td>1</td>\n",
       "      <td>36</td>\n",
       "      <td>Non-binary</td>\n",
       "      <td>Sales</td>\n",
       "      <td>Canada</td>\n",
       "      <td>No</td>\n",
       "      <td>Medium</td>\n",
       "      <td>Yes</td>\n",
       "      <td>Medium</td>\n",
       "      <td>7.1</td>\n",
       "      <td>46</td>\n",
       "      <td>5</td>\n",
       "    </tr>\n",
       "    <tr>\n",
       "      <th>1</th>\n",
       "      <td>2</td>\n",
       "      <td>34</td>\n",
       "      <td>Female</td>\n",
       "      <td>Education</td>\n",
       "      <td>UK</td>\n",
       "      <td>Yes</td>\n",
       "      <td>NaN</td>\n",
       "      <td>No</td>\n",
       "      <td>Low</td>\n",
       "      <td>7.5</td>\n",
       "      <td>47</td>\n",
       "      <td>8</td>\n",
       "    </tr>\n",
       "    <tr>\n",
       "      <th>2</th>\n",
       "      <td>3</td>\n",
       "      <td>65</td>\n",
       "      <td>Non-binary</td>\n",
       "      <td>Sales</td>\n",
       "      <td>USA</td>\n",
       "      <td>Yes</td>\n",
       "      <td>High</td>\n",
       "      <td>No</td>\n",
       "      <td>Low</td>\n",
       "      <td>8.4</td>\n",
       "      <td>58</td>\n",
       "      <td>10</td>\n",
       "    </tr>\n",
       "    <tr>\n",
       "      <th>3</th>\n",
       "      <td>4</td>\n",
       "      <td>34</td>\n",
       "      <td>Male</td>\n",
       "      <td>Other</td>\n",
       "      <td>Australia</td>\n",
       "      <td>No</td>\n",
       "      <td>Low</td>\n",
       "      <td>No</td>\n",
       "      <td>Medium</td>\n",
       "      <td>9.8</td>\n",
       "      <td>30</td>\n",
       "      <td>2</td>\n",
       "    </tr>\n",
       "    <tr>\n",
       "      <th>4</th>\n",
       "      <td>5</td>\n",
       "      <td>22</td>\n",
       "      <td>Female</td>\n",
       "      <td>Healthcare</td>\n",
       "      <td>Canada</td>\n",
       "      <td>Yes</td>\n",
       "      <td>Low</td>\n",
       "      <td>No</td>\n",
       "      <td>Medium</td>\n",
       "      <td>4.9</td>\n",
       "      <td>62</td>\n",
       "      <td>5</td>\n",
       "    </tr>\n",
       "  </tbody>\n",
       "</table>\n",
       "</div>"
      ]
     },
     "execution_count": 3,
     "metadata": {},
     "output_type": "execute_result"
    }
   ],
   "execution_count": 3
  },
  {
   "metadata": {
    "ExecuteTime": {
     "end_time": "2024-11-08T19:17:16.986199Z",
     "start_time": "2024-11-08T19:17:16.966918Z"
    }
   },
   "cell_type": "code",
   "source": [
    "# Renomear colunas para português\n",
    "mental_health.columns = [\n",
    "    'ID_Usuario',\n",
    "    'Idade',\n",
    "    'Genero',\n",
    "    'Ocupacao',\n",
    "    'Pais',\n",
    "    'Condicao_Saude_Mental',\n",
    "    'Gravidade',\n",
    "    'Historico_Consulta',\n",
    "    'Nivel_Estresse',\n",
    "    'Horas_Sono',\n",
    "    'Horas_Trabalho',\n",
    "    'Horas_Atividade_Fisica'\n",
    "]\n",
    "\n",
    "# Exibir as primeiras linhas para confirmar a mudança\n",
    "mental_health.head()"
   ],
   "id": "1ac51d24b1ca7308",
   "outputs": [
    {
     "data": {
      "text/plain": [
       "   ID_Usuario  Idade      Genero    Ocupacao       Pais Condicao_Saude_Mental  \\\n",
       "0           1     36  Non-binary       Sales     Canada                    No   \n",
       "1           2     34      Female   Education         UK                   Yes   \n",
       "2           3     65  Non-binary       Sales        USA                   Yes   \n",
       "3           4     34        Male       Other  Australia                    No   \n",
       "4           5     22      Female  Healthcare     Canada                   Yes   \n",
       "\n",
       "  Gravidade Historico_Consulta Nivel_Estresse  Horas_Sono  Horas_Trabalho  \\\n",
       "0    Medium                Yes         Medium         7.1              46   \n",
       "1       NaN                 No            Low         7.5              47   \n",
       "2      High                 No            Low         8.4              58   \n",
       "3       Low                 No         Medium         9.8              30   \n",
       "4       Low                 No         Medium         4.9              62   \n",
       "\n",
       "   Horas_Atividade_Fisica  \n",
       "0                       5  \n",
       "1                       8  \n",
       "2                      10  \n",
       "3                       2  \n",
       "4                       5  "
      ],
      "text/html": [
       "<div>\n",
       "<style scoped>\n",
       "    .dataframe tbody tr th:only-of-type {\n",
       "        vertical-align: middle;\n",
       "    }\n",
       "\n",
       "    .dataframe tbody tr th {\n",
       "        vertical-align: top;\n",
       "    }\n",
       "\n",
       "    .dataframe thead th {\n",
       "        text-align: right;\n",
       "    }\n",
       "</style>\n",
       "<table border=\"1\" class=\"dataframe\">\n",
       "  <thead>\n",
       "    <tr style=\"text-align: right;\">\n",
       "      <th></th>\n",
       "      <th>ID_Usuario</th>\n",
       "      <th>Idade</th>\n",
       "      <th>Genero</th>\n",
       "      <th>Ocupacao</th>\n",
       "      <th>Pais</th>\n",
       "      <th>Condicao_Saude_Mental</th>\n",
       "      <th>Gravidade</th>\n",
       "      <th>Historico_Consulta</th>\n",
       "      <th>Nivel_Estresse</th>\n",
       "      <th>Horas_Sono</th>\n",
       "      <th>Horas_Trabalho</th>\n",
       "      <th>Horas_Atividade_Fisica</th>\n",
       "    </tr>\n",
       "  </thead>\n",
       "  <tbody>\n",
       "    <tr>\n",
       "      <th>0</th>\n",
       "      <td>1</td>\n",
       "      <td>36</td>\n",
       "      <td>Non-binary</td>\n",
       "      <td>Sales</td>\n",
       "      <td>Canada</td>\n",
       "      <td>No</td>\n",
       "      <td>Medium</td>\n",
       "      <td>Yes</td>\n",
       "      <td>Medium</td>\n",
       "      <td>7.1</td>\n",
       "      <td>46</td>\n",
       "      <td>5</td>\n",
       "    </tr>\n",
       "    <tr>\n",
       "      <th>1</th>\n",
       "      <td>2</td>\n",
       "      <td>34</td>\n",
       "      <td>Female</td>\n",
       "      <td>Education</td>\n",
       "      <td>UK</td>\n",
       "      <td>Yes</td>\n",
       "      <td>NaN</td>\n",
       "      <td>No</td>\n",
       "      <td>Low</td>\n",
       "      <td>7.5</td>\n",
       "      <td>47</td>\n",
       "      <td>8</td>\n",
       "    </tr>\n",
       "    <tr>\n",
       "      <th>2</th>\n",
       "      <td>3</td>\n",
       "      <td>65</td>\n",
       "      <td>Non-binary</td>\n",
       "      <td>Sales</td>\n",
       "      <td>USA</td>\n",
       "      <td>Yes</td>\n",
       "      <td>High</td>\n",
       "      <td>No</td>\n",
       "      <td>Low</td>\n",
       "      <td>8.4</td>\n",
       "      <td>58</td>\n",
       "      <td>10</td>\n",
       "    </tr>\n",
       "    <tr>\n",
       "      <th>3</th>\n",
       "      <td>4</td>\n",
       "      <td>34</td>\n",
       "      <td>Male</td>\n",
       "      <td>Other</td>\n",
       "      <td>Australia</td>\n",
       "      <td>No</td>\n",
       "      <td>Low</td>\n",
       "      <td>No</td>\n",
       "      <td>Medium</td>\n",
       "      <td>9.8</td>\n",
       "      <td>30</td>\n",
       "      <td>2</td>\n",
       "    </tr>\n",
       "    <tr>\n",
       "      <th>4</th>\n",
       "      <td>5</td>\n",
       "      <td>22</td>\n",
       "      <td>Female</td>\n",
       "      <td>Healthcare</td>\n",
       "      <td>Canada</td>\n",
       "      <td>Yes</td>\n",
       "      <td>Low</td>\n",
       "      <td>No</td>\n",
       "      <td>Medium</td>\n",
       "      <td>4.9</td>\n",
       "      <td>62</td>\n",
       "      <td>5</td>\n",
       "    </tr>\n",
       "  </tbody>\n",
       "</table>\n",
       "</div>"
      ]
     },
     "execution_count": 4,
     "metadata": {},
     "output_type": "execute_result"
    }
   ],
   "execution_count": 4
  },
  {
   "metadata": {
    "ExecuteTime": {
     "end_time": "2024-11-08T19:17:17.000343Z",
     "start_time": "2024-11-08T19:17:16.988220Z"
    }
   },
   "cell_type": "code",
   "source": [
    "# Tamanho do dataframe\n",
    "mental_health.shape"
   ],
   "id": "767ffac2835f68e",
   "outputs": [
    {
     "data": {
      "text/plain": [
       "(1000, 12)"
      ]
     },
     "execution_count": 5,
     "metadata": {},
     "output_type": "execute_result"
    }
   ],
   "execution_count": 5
  },
  {
   "metadata": {},
   "cell_type": "markdown",
   "source": "## Análise exploratória",
   "id": "78e81f8ed6800b6f"
  },
  {
   "metadata": {
    "ExecuteTime": {
     "end_time": "2024-11-08T19:17:17.009927Z",
     "start_time": "2024-11-08T19:17:17.000343Z"
    }
   },
   "cell_type": "code",
   "source": "mental_health.dtypes",
   "id": "949465fd958c7f0e",
   "outputs": [
    {
     "data": {
      "text/plain": [
       "ID_Usuario                  int64\n",
       "Idade                       int64\n",
       "Genero                     object\n",
       "Ocupacao                   object\n",
       "Pais                       object\n",
       "Condicao_Saude_Mental      object\n",
       "Gravidade                  object\n",
       "Historico_Consulta         object\n",
       "Nivel_Estresse             object\n",
       "Horas_Sono                float64\n",
       "Horas_Trabalho              int64\n",
       "Horas_Atividade_Fisica      int64\n",
       "dtype: object"
      ]
     },
     "execution_count": 6,
     "metadata": {},
     "output_type": "execute_result"
    }
   ],
   "execution_count": 6
  },
  {
   "metadata": {
    "ExecuteTime": {
     "end_time": "2024-11-08T19:17:17.020074Z",
     "start_time": "2024-11-08T19:17:17.009927Z"
    }
   },
   "cell_type": "code",
   "source": [
    "# Contar valores nulos\n",
    "print(\"Valores nulos por coluna:\\n\", mental_health.isnull().sum())"
   ],
   "id": "9f7769e2afe433ff",
   "outputs": [
    {
     "name": "stdout",
     "output_type": "stream",
     "text": [
      "Valores nulos por coluna:\n",
      " ID_Usuario                  0\n",
      "Idade                       0\n",
      "Genero                      0\n",
      "Ocupacao                    0\n",
      "Pais                        0\n",
      "Condicao_Saude_Mental       0\n",
      "Gravidade                 501\n",
      "Historico_Consulta          0\n",
      "Nivel_Estresse              0\n",
      "Horas_Sono                  0\n",
      "Horas_Trabalho              0\n",
      "Horas_Atividade_Fisica      0\n",
      "dtype: int64\n"
     ]
    }
   ],
   "execution_count": 7
  },
  {
   "metadata": {
    "ExecuteTime": {
     "end_time": "2024-11-08T19:17:17.051707Z",
     "start_time": "2024-11-08T19:17:17.020074Z"
    }
   },
   "cell_type": "code",
   "source": [
    "# Resumo estatístico para variáveis numéricas\n",
    "print(mental_health.describe())"
   ],
   "id": "8e88f0152ffc97fd",
   "outputs": [
    {
     "name": "stdout",
     "output_type": "stream",
     "text": [
      "        ID_Usuario       Idade   Horas_Sono  Horas_Trabalho  \\\n",
      "count  1000.000000  1000.00000  1000.000000     1000.000000   \n",
      "mean    500.500000    41.89200     7.095600       54.621000   \n",
      "std     288.819436    13.97475     1.713861       14.709035   \n",
      "min       1.000000    18.00000     4.000000       30.000000   \n",
      "25%     250.750000    30.00000     5.600000       42.000000   \n",
      "50%     500.500000    42.00000     7.100000       55.000000   \n",
      "75%     750.250000    54.00000     8.500000       67.000000   \n",
      "max    1000.000000    65.00000    10.000000       80.000000   \n",
      "\n",
      "       Horas_Atividade_Fisica  \n",
      "count             1000.000000  \n",
      "mean                 5.134000  \n",
      "std                  3.081808  \n",
      "min                  0.000000  \n",
      "25%                  3.000000  \n",
      "50%                  5.000000  \n",
      "75%                  8.000000  \n",
      "max                 10.000000  \n"
     ]
    }
   ],
   "execution_count": 8
  },
  {
   "metadata": {
    "ExecuteTime": {
     "end_time": "2024-11-08T19:17:17.087393Z",
     "start_time": "2024-11-08T19:17:17.053709Z"
    }
   },
   "cell_type": "code",
   "source": [
    "# Resumo para variáveis categóricas\n",
    "print(mental_health.describe(include='object'))"
   ],
   "id": "85bf81185b910ac7",
   "outputs": [
    {
     "name": "stdout",
     "output_type": "stream",
     "text": [
      "        Genero Ocupacao       Pais Condicao_Saude_Mental Gravidade  \\\n",
      "count     1000     1000       1000                  1000       499   \n",
      "unique       4        7          7                     2         3   \n",
      "top     Female    Other  Australia                   Yes       Low   \n",
      "freq       270      161        160                   515       176   \n",
      "\n",
      "       Historico_Consulta Nivel_Estresse  \n",
      "count                1000           1000  \n",
      "unique                  2              3  \n",
      "top                    No           High  \n",
      "freq                  505            342  \n"
     ]
    }
   ],
   "execution_count": 9
  },
  {
   "metadata": {},
   "cell_type": "markdown",
   "source": [
    "###  Análise Básica dos Dados\n",
    "- `dtypes`: Identificamos os tipos de dados para garantir que estão corretos.\n",
    "- \n",
    "- `isnull().sum()`: Contamos os valores nulos para verificar a necessidade de limpeza.\n",
    "- \n",
    "- `describe()`: Fornece estatísticas descritivas, como média e desvio padrão, para variáveis numéricas."
   ],
   "id": "f5b3dd190fa19611"
  },
  {
   "metadata": {},
   "cell_type": "markdown",
   "source": [
    "## Valores Nulos:\n",
    "\n",
    "A coluna Gravidade tem 501 valores nulos, ou seja, metade dos dados está ausente nessa coluna. Vamos preencher os valores nulos com a moda (valor mais frequente). "
   ],
   "id": "429b98816252aa6a"
  },
  {
   "metadata": {
    "ExecuteTime": {
     "end_time": "2024-11-08T19:17:17.104918Z",
     "start_time": "2024-11-08T19:17:17.087393Z"
    }
   },
   "cell_type": "code",
   "source": [
    "# Verificar a moda da coluna 'Gravidade'\n",
    "gravidade_moda = mental_health['Gravidade'].mode()[0]\n",
    "print(f\"Moda da coluna 'Gravidade': {gravidade_moda}\")\n",
    "\n",
    "# Preencher valores nulos com a moda\n",
    "mental_health['Gravidade'].fillna(gravidade_moda, inplace=True)\n",
    "\n",
    "# Verificar se há valores nulos restantes\n",
    "print(\"Valores nulos após preenchimento:\\n\", mental_health.isnull().sum())\n"
   ],
   "id": "b3fc5af69fdef55f",
   "outputs": [
    {
     "name": "stdout",
     "output_type": "stream",
     "text": [
      "Moda da coluna 'Gravidade': Low\n",
      "Valores nulos após preenchimento:\n",
      " ID_Usuario                0\n",
      "Idade                     0\n",
      "Genero                    0\n",
      "Ocupacao                  0\n",
      "Pais                      0\n",
      "Condicao_Saude_Mental     0\n",
      "Gravidade                 0\n",
      "Historico_Consulta        0\n",
      "Nivel_Estresse            0\n",
      "Horas_Sono                0\n",
      "Horas_Trabalho            0\n",
      "Horas_Atividade_Fisica    0\n",
      "dtype: int64\n"
     ]
    },
    {
     "name": "stderr",
     "output_type": "stream",
     "text": [
      "C:\\Users\\karin\\AppData\\Local\\Temp\\ipykernel_16800\\2021768612.py:6: FutureWarning: A value is trying to be set on a copy of a DataFrame or Series through chained assignment using an inplace method.\n",
      "The behavior will change in pandas 3.0. This inplace method will never work because the intermediate object on which we are setting values always behaves as a copy.\n",
      "\n",
      "For example, when doing 'df[col].method(value, inplace=True)', try using 'df.method({col: value}, inplace=True)' or df[col] = df[col].method(value) instead, to perform the operation inplace on the original object.\n",
      "\n",
      "\n",
      "  mental_health['Gravidade'].fillna(gravidade_moda, inplace=True)\n"
     ]
    }
   ],
   "execution_count": 10
  },
  {
   "metadata": {},
   "cell_type": "markdown",
   "source": [
    "## Codificação de Variáveis Categóricas\n",
    "\n",
    "### Explicação\n",
    "- **Label Encoding**: Converte variáveis binárias para valores numéricos (0 e 1).\n",
    "- **One-Hot Encoding**: Cria colunas dummy para cada categoria, evitando ordens arbitrárias.\n",
    "- **drop_first=True**: Remove a primeira coluna dummy para evitar multicolinearidade.\n"
   ],
   "id": "7297fdc7298c6141"
  },
  {
   "metadata": {
    "ExecuteTime": {
     "end_time": "2024-11-08T19:17:25.440923Z",
     "start_time": "2024-11-08T19:17:17.109929Z"
    }
   },
   "cell_type": "code",
   "source": [
    "from sklearn.preprocessing import LabelEncoder\n",
    "\n",
    "# Codificação com LabelEncoder para variáveis binárias\n",
    "label_enc = LabelEncoder()\n",
    "mental_health['Condicao_Saude_Mental'] = label_enc.fit_transform(mental_health['Condicao_Saude_Mental'])\n",
    "mental_health['Historico_Consulta'] = label_enc.fit_transform(mental_health['Historico_Consulta'])\n",
    "\n",
    "# Codificação com One-Hot Encoding para variáveis com múltiplas categorias\n",
    "mental_health = pd.get_dummies(mental_health, columns=['Genero', 'Ocupacao', 'Pais', 'Nivel_Estresse', 'Gravidade'], drop_first=True)\n",
    "\n",
    "# Exibir as primeiras linhas após a codificação\n",
    "mental_health.head()\n"
   ],
   "id": "37390c851b0b1e33",
   "outputs": [
    {
     "data": {
      "text/plain": [
       "   ID_Usuario  Idade  Condicao_Saude_Mental  Historico_Consulta  Horas_Sono  \\\n",
       "0           1     36                      0                   1         7.1   \n",
       "1           2     34                      1                   0         7.5   \n",
       "2           3     65                      1                   0         8.4   \n",
       "3           4     34                      0                   0         9.8   \n",
       "4           5     22                      1                   0         4.9   \n",
       "\n",
       "   Horas_Trabalho  Horas_Atividade_Fisica  Genero_Male  Genero_Non-binary  \\\n",
       "0              46                       5        False               True   \n",
       "1              47                       8        False              False   \n",
       "2              58                      10        False               True   \n",
       "3              30                       2         True              False   \n",
       "4              62                       5        False              False   \n",
       "\n",
       "   Genero_Prefer not to say  ...  Pais_Canada  Pais_Germany  Pais_India  \\\n",
       "0                     False  ...         True         False       False   \n",
       "1                     False  ...        False         False       False   \n",
       "2                     False  ...        False         False       False   \n",
       "3                     False  ...        False         False       False   \n",
       "4                     False  ...         True         False       False   \n",
       "\n",
       "   Pais_Other  Pais_UK  Pais_USA  Nivel_Estresse_Low  Nivel_Estresse_Medium  \\\n",
       "0       False    False     False               False                   True   \n",
       "1       False     True     False                True                  False   \n",
       "2       False    False      True                True                  False   \n",
       "3       False    False     False               False                   True   \n",
       "4       False    False     False               False                   True   \n",
       "\n",
       "   Gravidade_Low  Gravidade_Medium  \n",
       "0          False              True  \n",
       "1           True             False  \n",
       "2          False             False  \n",
       "3           True             False  \n",
       "4           True             False  \n",
       "\n",
       "[5 rows x 26 columns]"
      ],
      "text/html": [
       "<div>\n",
       "<style scoped>\n",
       "    .dataframe tbody tr th:only-of-type {\n",
       "        vertical-align: middle;\n",
       "    }\n",
       "\n",
       "    .dataframe tbody tr th {\n",
       "        vertical-align: top;\n",
       "    }\n",
       "\n",
       "    .dataframe thead th {\n",
       "        text-align: right;\n",
       "    }\n",
       "</style>\n",
       "<table border=\"1\" class=\"dataframe\">\n",
       "  <thead>\n",
       "    <tr style=\"text-align: right;\">\n",
       "      <th></th>\n",
       "      <th>ID_Usuario</th>\n",
       "      <th>Idade</th>\n",
       "      <th>Condicao_Saude_Mental</th>\n",
       "      <th>Historico_Consulta</th>\n",
       "      <th>Horas_Sono</th>\n",
       "      <th>Horas_Trabalho</th>\n",
       "      <th>Horas_Atividade_Fisica</th>\n",
       "      <th>Genero_Male</th>\n",
       "      <th>Genero_Non-binary</th>\n",
       "      <th>Genero_Prefer not to say</th>\n",
       "      <th>...</th>\n",
       "      <th>Pais_Canada</th>\n",
       "      <th>Pais_Germany</th>\n",
       "      <th>Pais_India</th>\n",
       "      <th>Pais_Other</th>\n",
       "      <th>Pais_UK</th>\n",
       "      <th>Pais_USA</th>\n",
       "      <th>Nivel_Estresse_Low</th>\n",
       "      <th>Nivel_Estresse_Medium</th>\n",
       "      <th>Gravidade_Low</th>\n",
       "      <th>Gravidade_Medium</th>\n",
       "    </tr>\n",
       "  </thead>\n",
       "  <tbody>\n",
       "    <tr>\n",
       "      <th>0</th>\n",
       "      <td>1</td>\n",
       "      <td>36</td>\n",
       "      <td>0</td>\n",
       "      <td>1</td>\n",
       "      <td>7.1</td>\n",
       "      <td>46</td>\n",
       "      <td>5</td>\n",
       "      <td>False</td>\n",
       "      <td>True</td>\n",
       "      <td>False</td>\n",
       "      <td>...</td>\n",
       "      <td>True</td>\n",
       "      <td>False</td>\n",
       "      <td>False</td>\n",
       "      <td>False</td>\n",
       "      <td>False</td>\n",
       "      <td>False</td>\n",
       "      <td>False</td>\n",
       "      <td>True</td>\n",
       "      <td>False</td>\n",
       "      <td>True</td>\n",
       "    </tr>\n",
       "    <tr>\n",
       "      <th>1</th>\n",
       "      <td>2</td>\n",
       "      <td>34</td>\n",
       "      <td>1</td>\n",
       "      <td>0</td>\n",
       "      <td>7.5</td>\n",
       "      <td>47</td>\n",
       "      <td>8</td>\n",
       "      <td>False</td>\n",
       "      <td>False</td>\n",
       "      <td>False</td>\n",
       "      <td>...</td>\n",
       "      <td>False</td>\n",
       "      <td>False</td>\n",
       "      <td>False</td>\n",
       "      <td>False</td>\n",
       "      <td>True</td>\n",
       "      <td>False</td>\n",
       "      <td>True</td>\n",
       "      <td>False</td>\n",
       "      <td>True</td>\n",
       "      <td>False</td>\n",
       "    </tr>\n",
       "    <tr>\n",
       "      <th>2</th>\n",
       "      <td>3</td>\n",
       "      <td>65</td>\n",
       "      <td>1</td>\n",
       "      <td>0</td>\n",
       "      <td>8.4</td>\n",
       "      <td>58</td>\n",
       "      <td>10</td>\n",
       "      <td>False</td>\n",
       "      <td>True</td>\n",
       "      <td>False</td>\n",
       "      <td>...</td>\n",
       "      <td>False</td>\n",
       "      <td>False</td>\n",
       "      <td>False</td>\n",
       "      <td>False</td>\n",
       "      <td>False</td>\n",
       "      <td>True</td>\n",
       "      <td>True</td>\n",
       "      <td>False</td>\n",
       "      <td>False</td>\n",
       "      <td>False</td>\n",
       "    </tr>\n",
       "    <tr>\n",
       "      <th>3</th>\n",
       "      <td>4</td>\n",
       "      <td>34</td>\n",
       "      <td>0</td>\n",
       "      <td>0</td>\n",
       "      <td>9.8</td>\n",
       "      <td>30</td>\n",
       "      <td>2</td>\n",
       "      <td>True</td>\n",
       "      <td>False</td>\n",
       "      <td>False</td>\n",
       "      <td>...</td>\n",
       "      <td>False</td>\n",
       "      <td>False</td>\n",
       "      <td>False</td>\n",
       "      <td>False</td>\n",
       "      <td>False</td>\n",
       "      <td>False</td>\n",
       "      <td>False</td>\n",
       "      <td>True</td>\n",
       "      <td>True</td>\n",
       "      <td>False</td>\n",
       "    </tr>\n",
       "    <tr>\n",
       "      <th>4</th>\n",
       "      <td>5</td>\n",
       "      <td>22</td>\n",
       "      <td>1</td>\n",
       "      <td>0</td>\n",
       "      <td>4.9</td>\n",
       "      <td>62</td>\n",
       "      <td>5</td>\n",
       "      <td>False</td>\n",
       "      <td>False</td>\n",
       "      <td>False</td>\n",
       "      <td>...</td>\n",
       "      <td>True</td>\n",
       "      <td>False</td>\n",
       "      <td>False</td>\n",
       "      <td>False</td>\n",
       "      <td>False</td>\n",
       "      <td>False</td>\n",
       "      <td>False</td>\n",
       "      <td>True</td>\n",
       "      <td>True</td>\n",
       "      <td>False</td>\n",
       "    </tr>\n",
       "  </tbody>\n",
       "</table>\n",
       "<p>5 rows × 26 columns</p>\n",
       "</div>"
      ]
     },
     "execution_count": 11,
     "metadata": {},
     "output_type": "execute_result"
    }
   ],
   "execution_count": 11
  },
  {
   "metadata": {},
   "cell_type": "markdown",
   "source": "### Padronização das Variáveis Numéricas",
   "id": "f0820e3431ed1526"
  },
  {
   "metadata": {
    "ExecuteTime": {
     "end_time": "2024-11-08T19:17:25.504128Z",
     "start_time": "2024-11-08T19:17:25.443131Z"
    }
   },
   "cell_type": "code",
   "source": [
    "from sklearn.preprocessing import StandardScaler\n",
    "\n",
    "# Padronizar as variáveis numéricas\n",
    "scaler = StandardScaler()\n",
    "numerical_cols = ['Idade', 'Horas_Sono', 'Horas_Trabalho', 'Horas_Atividade_Fisica']\n",
    "mental_health[numerical_cols] = scaler.fit_transform(mental_health[numerical_cols])\n",
    "\n",
    "# Exibir a descrição estatística após padronização\n",
    "mental_health[numerical_cols].describe()\n"
   ],
   "id": "ed1d053f7609ff8b",
   "outputs": [
    {
     "data": {
      "text/plain": [
       "              Idade    Horas_Sono  Horas_Trabalho  Horas_Atividade_Fisica\n",
       "count  1.000000e+03  1.000000e+03    1.000000e+03            1.000000e+03\n",
       "mean  -2.202682e-16 -7.815970e-17   -1.456613e-16           -1.243450e-16\n",
       "std    1.000500e+00  1.000500e+00    1.000500e+00            1.000500e+00\n",
       "min   -1.710510e+00 -1.807118e+00   -1.674707e+00           -1.666739e+00\n",
       "25%   -8.513892e-01 -8.730864e-01   -8.584734e-01           -6.927971e-01\n",
       "50%    7.732091e-03  2.568588e-03    2.577937e-02           -4.350272e-02\n",
       "75%    8.668533e-01  8.198466e-01    8.420127e-01            9.304389e-01\n",
       "max    1.654381e+00  1.695502e+00    1.726265e+00            1.579733e+00"
      ],
      "text/html": [
       "<div>\n",
       "<style scoped>\n",
       "    .dataframe tbody tr th:only-of-type {\n",
       "        vertical-align: middle;\n",
       "    }\n",
       "\n",
       "    .dataframe tbody tr th {\n",
       "        vertical-align: top;\n",
       "    }\n",
       "\n",
       "    .dataframe thead th {\n",
       "        text-align: right;\n",
       "    }\n",
       "</style>\n",
       "<table border=\"1\" class=\"dataframe\">\n",
       "  <thead>\n",
       "    <tr style=\"text-align: right;\">\n",
       "      <th></th>\n",
       "      <th>Idade</th>\n",
       "      <th>Horas_Sono</th>\n",
       "      <th>Horas_Trabalho</th>\n",
       "      <th>Horas_Atividade_Fisica</th>\n",
       "    </tr>\n",
       "  </thead>\n",
       "  <tbody>\n",
       "    <tr>\n",
       "      <th>count</th>\n",
       "      <td>1.000000e+03</td>\n",
       "      <td>1.000000e+03</td>\n",
       "      <td>1.000000e+03</td>\n",
       "      <td>1.000000e+03</td>\n",
       "    </tr>\n",
       "    <tr>\n",
       "      <th>mean</th>\n",
       "      <td>-2.202682e-16</td>\n",
       "      <td>-7.815970e-17</td>\n",
       "      <td>-1.456613e-16</td>\n",
       "      <td>-1.243450e-16</td>\n",
       "    </tr>\n",
       "    <tr>\n",
       "      <th>std</th>\n",
       "      <td>1.000500e+00</td>\n",
       "      <td>1.000500e+00</td>\n",
       "      <td>1.000500e+00</td>\n",
       "      <td>1.000500e+00</td>\n",
       "    </tr>\n",
       "    <tr>\n",
       "      <th>min</th>\n",
       "      <td>-1.710510e+00</td>\n",
       "      <td>-1.807118e+00</td>\n",
       "      <td>-1.674707e+00</td>\n",
       "      <td>-1.666739e+00</td>\n",
       "    </tr>\n",
       "    <tr>\n",
       "      <th>25%</th>\n",
       "      <td>-8.513892e-01</td>\n",
       "      <td>-8.730864e-01</td>\n",
       "      <td>-8.584734e-01</td>\n",
       "      <td>-6.927971e-01</td>\n",
       "    </tr>\n",
       "    <tr>\n",
       "      <th>50%</th>\n",
       "      <td>7.732091e-03</td>\n",
       "      <td>2.568588e-03</td>\n",
       "      <td>2.577937e-02</td>\n",
       "      <td>-4.350272e-02</td>\n",
       "    </tr>\n",
       "    <tr>\n",
       "      <th>75%</th>\n",
       "      <td>8.668533e-01</td>\n",
       "      <td>8.198466e-01</td>\n",
       "      <td>8.420127e-01</td>\n",
       "      <td>9.304389e-01</td>\n",
       "    </tr>\n",
       "    <tr>\n",
       "      <th>max</th>\n",
       "      <td>1.654381e+00</td>\n",
       "      <td>1.695502e+00</td>\n",
       "      <td>1.726265e+00</td>\n",
       "      <td>1.579733e+00</td>\n",
       "    </tr>\n",
       "  </tbody>\n",
       "</table>\n",
       "</div>"
      ]
     },
     "execution_count": 12,
     "metadata": {},
     "output_type": "execute_result"
    }
   ],
   "execution_count": 12
  },
  {
   "metadata": {},
   "cell_type": "markdown",
   "source": [
    "### Explicação\n",
    "- A padronização transforma as variáveis para ter média 0 e desvio padrão 1, facilitando o treinamento de muitos algoritmos de aprendizado de máquina.\n"
   ],
   "id": "9d5e524cd002f44a"
  },
  {
   "metadata": {},
   "cell_type": "markdown",
   "source": "## Verificação de dados ausentes",
   "id": "2dc8d86d82cafa60"
  },
  {
   "metadata": {
    "ExecuteTime": {
     "end_time": "2024-11-08T19:39:48.591870Z",
     "start_time": "2024-11-08T19:39:44.204334Z"
    }
   },
   "cell_type": "code",
   "source": [
    "import pandas as pd\n",
    "import numpy as np\n",
    "\n",
    "# Carregar o dataset\n",
    "mental_health = pd.read_csv('C:/Users/karin/OneDrive/Área de Trabalho/data science/mental_health_dataset.csv')\n",
    "\n",
    "# Verificar dados ausentes\n",
    "print(mental_health.isnull().sum())\n",
    "\n",
    "# Visualizar porcentagem de valores ausentes\n",
    "missing_percentage = mental_health.isnull().mean() * 100\n",
    "print(missing_percentage)\n",
    "\n",
    "# Exibir gráfico de valores ausentes\n",
    "import seaborn as sns\n",
    "import matplotlib.pyplot as plt\n",
    "\n",
    "plt.figure(figsize=(10, 6))\n",
    "sns.heatmap(mental_health.isnull(), cbar=False, cmap='viridis')\n",
    "plt.title('Mapa de Valores Ausentes')\n",
    "plt.show()\n"
   ],
   "id": "666355bf2fbc4b8f",
   "outputs": [
    {
     "name": "stdout",
     "output_type": "stream",
     "text": [
      "User_ID                      0\n",
      "Age                          0\n",
      "Gender                       0\n",
      "Occupation                   0\n",
      "Country                      0\n",
      "Mental_Health_Condition      0\n",
      "Severity                   501\n",
      "Consultation_History         0\n",
      "Stress_Level                 0\n",
      "Sleep_Hours                  0\n",
      "Work_Hours                   0\n",
      "Physical_Activity_Hours      0\n",
      "dtype: int64\n",
      "User_ID                     0.0\n",
      "Age                         0.0\n",
      "Gender                      0.0\n",
      "Occupation                  0.0\n",
      "Country                     0.0\n",
      "Mental_Health_Condition     0.0\n",
      "Severity                   50.1\n",
      "Consultation_History        0.0\n",
      "Stress_Level                0.0\n",
      "Sleep_Hours                 0.0\n",
      "Work_Hours                  0.0\n",
      "Physical_Activity_Hours     0.0\n",
      "dtype: float64\n"
     ]
    },
    {
     "data": {
      "text/plain": [
       "<Figure size 1000x600 with 1 Axes>"
      ],
      "image/png": "[encoded data removed]"
     },
     "metadata": {},
     "output_type": "display_data"
    }
   ],
   "execution_count": 15
  },
  {
   "metadata": {},
   "cell_type": "markdown",
   "source": "### Para este caso, sugiro continuar preenchendo os valores nulos com a moda, já que isso garante a integridade do dataset sem introduzir complexidade adicional.",
   "id": "5fe71e0fcbea70a4"
  },
  {
   "metadata": {
    "ExecuteTime": {
     "end_time": "2024-11-08T19:42:26.344332Z",
     "start_time": "2024-11-08T19:42:26.123028Z"
    }
   },
   "cell_type": "code",
   "source": [
    "# Exibir a moda da coluna 'Severity'\n",
    "severity_mode = mental_health['Severity'].mode()[0]\n",
    "print(\"Moda da coluna 'Severity':\", severity_mode)\n",
    "\n",
    "# Preencher valores nulos com a moda\n",
    "mental_health['Severity'].fillna(severity_mode, inplace=True)\n",
    "\n",
    "# Verificar novamente se há valores nulos\n",
    "print(mental_health.isnull().sum())\n"
   ],
   "id": "19d85b71765c32f5",
   "outputs": [
    {
     "name": "stdout",
     "output_type": "stream",
     "text": [
      "Moda da coluna 'Severity': Low\n",
      "User_ID                    0\n",
      "Age                        0\n",
      "Gender                     0\n",
      "Occupation                 0\n",
      "Country                    0\n",
      "Mental_Health_Condition    0\n",
      "Severity                   0\n",
      "Consultation_History       0\n",
      "Stress_Level               0\n",
      "Sleep_Hours                0\n",
      "Work_Hours                 0\n",
      "Physical_Activity_Hours    0\n",
      "dtype: int64\n"
     ]
    },
    {
     "name": "stderr",
     "output_type": "stream",
     "text": [
      "C:\\Users\\karin\\AppData\\Local\\Temp\\ipykernel_16800\\42883146.py:6: FutureWarning: A value is trying to be set on a copy of a DataFrame or Series through chained assignment using an inplace method.\n",
      "The behavior will change in pandas 3.0. This inplace method will never work because the intermediate object on which we are setting values always behaves as a copy.\n",
      "\n",
      "For example, when doing 'df[col].method(value, inplace=True)', try using 'df.method({col: value}, inplace=True)' or df[col] = df[col].method(value) instead, to perform the operation inplace on the original object.\n",
      "\n",
      "\n",
      "  mental_health['Severity'].fillna(severity_mode, inplace=True)\n"
     ]
    }
   ],
   "execution_count": 16
  },
  {
   "metadata": {
    "ExecuteTime": {
     "end_time": "2024-11-08T19:42:42.131065Z",
     "start_time": "2024-11-08T19:42:42.012542Z"
    }
   },
   "cell_type": "code",
   "source": "mental_health.info()",
   "id": "2cc7f35bd05cb18f",
   "outputs": [
    {
     "name": "stdout",
     "output_type": "stream",
     "text": [
      "<class 'pandas.core.frame.DataFrame'>\n",
      "RangeIndex: 1000 entries, 0 to 999\n",
      "Data columns (total 12 columns):\n",
      " #   Column                   Non-Null Count  Dtype  \n",
      "---  ------                   --------------  -----  \n",
      " 0   User_ID                  1000 non-null   int64  \n",
      " 1   Age                      1000 non-null   int64  \n",
      " 2   Gender                   1000 non-null   object \n",
      " 3   Occupation               1000 non-null   object \n",
      " 4   Country                  1000 non-null   object \n",
      " 5   Mental_Health_Condition  1000 non-null   object \n",
      " 6   Severity                 1000 non-null   object \n",
      " 7   Consultation_History     1000 non-null   object \n",
      " 8   Stress_Level             1000 non-null   object \n",
      " 9   Sleep_Hours              1000 non-null   float64\n",
      " 10  Work_Hours               1000 non-null   int64  \n",
      " 11  Physical_Activity_Hours  1000 non-null   int64  \n",
      "dtypes: float64(1), int64(4), object(7)\n",
      "memory usage: 93.9+ KB\n"
     ]
    }
   ],
   "execution_count": 17
  },
  {
   "metadata": {},
   "cell_type": "markdown",
   "source": "## Limpeza de Dados",
   "id": "c7b781a9e51b39e"
  },
  {
   "metadata": {},
   "cell_type": "markdown",
   "source": [
    "### Como parte da limpeza de dados, vamos:\n",
    "\n",
    "Remover a coluna User_ID, pois não adiciona informação útil para o modelo.\n",
    "Verificar e corrigir inconsistências de valores (caso haja valores fora do intervalo esperado).\n",
    "Verificar duplicatas e removê-las, se necessário."
   ],
   "id": "f8c01ff55b863809"
  },
  {
   "metadata": {
    "ExecuteTime": {
     "end_time": "2024-11-08T19:59:13.755045Z",
     "start_time": "2024-11-08T19:59:13.498789Z"
    }
   },
   "cell_type": "code",
   "source": [
    "# Remover a coluna 'User_ID'\n",
    "mental_health_cleaned = mental_health.drop(columns=['User_ID'])\n",
    "\n",
    "# Verificar a presença de duplicatas\n",
    "duplicated_rows = mental_health_cleaned.duplicated().sum()\n",
    "print(f\"Quantidade de linhas duplicadas: {duplicated_rows}\")\n",
    "\n",
    "# Remover duplicatas, se houver\n",
    "if duplicated_rows > 0:\n",
    "    mental_health_cleaned.drop_duplicates(inplace=True)\n",
    "    print(\"Duplicatas removidas.\")\n",
    "\n",
    "# Verificar estatísticas descritivas para identificar possíveis inconsistências\n",
    "print(mental_health_cleaned.describe())\n"
   ],
   "id": "2d80620db76c9b1f",
   "outputs": [
    {
     "name": "stdout",
     "output_type": "stream",
     "text": [
      "Quantidade de linhas duplicadas: 0\n",
      "              Age  Sleep_Hours   Work_Hours  Physical_Activity_Hours\n",
      "count  1000.00000  1000.000000  1000.000000              1000.000000\n",
      "mean     41.89200     7.095600    54.621000                 5.134000\n",
      "std      13.97475     1.713861    14.709035                 3.081808\n",
      "min      18.00000     4.000000    30.000000                 0.000000\n",
      "25%      30.00000     5.600000    42.000000                 3.000000\n",
      "50%      42.00000     7.100000    55.000000                 5.000000\n",
      "75%      54.00000     8.500000    67.000000                 8.000000\n",
      "max      65.00000    10.000000    80.000000                10.000000\n"
     ]
    }
   ],
   "execution_count": 18
  },
  {
   "metadata": {},
   "cell_type": "markdown",
   "source": [
    "## Pré-processamento dos Dados\n",
    "Nesta etapa, vamos:\n",
    "\n",
    "Codificar variáveis categóricas usando LabelEncoder para variáveis binárias.\n",
    "\n",
    "\n",
    "Codificar variáveis categóricas usando OneHotEncoder para variáveis com múltiplas categorias.\n",
    "\n",
    "3.1 Usando LabelEncoder\n",
    "\n",
    "Vamos aplicar o LabelEncoder nas colunas:\n",
    "\n",
    "Mental_Health_Condition (Sim/Não)\n",
    "Consultation_History (Sim/Não)"
   ],
   "id": "3bd5b8f3c78335fa"
  },
  {
   "metadata": {},
   "cell_type": "markdown",
   "source": "",
   "id": "db79035151552eba"
  },
  {
   "metadata": {
    "ExecuteTime": {
     "end_time": "2024-11-08T20:02:37.818533Z",
     "start_time": "2024-11-08T20:02:36.826658Z"
    }
   },
   "cell_type": "code",
   "source": [
    "from sklearn.preprocessing import LabelEncoder\n",
    "\n",
    "# Instanciar o LabelEncoder\n",
    "le = LabelEncoder()\n",
    "\n",
    "# Codificar colunas binárias\n",
    "mental_health_cleaned['Mental_Health_Condition'] = le.fit_transform(mental_health_cleaned['Mental_Health_Condition'])\n",
    "mental_health_cleaned['Consultation_History'] = le.fit_transform(mental_health_cleaned['Consultation_History'])\n",
    "\n",
    "# Exibir as primeiras linhas para verificar\n",
    "print(mental_health_cleaned.head())\n"
   ],
   "id": "7bb0e103ed93d7e4",
   "outputs": [
    {
     "name": "stdout",
     "output_type": "stream",
     "text": [
      "   Age      Gender  Occupation    Country  Mental_Health_Condition Severity  \\\n",
      "0   36  Non-binary       Sales     Canada                        0   Medium   \n",
      "1   34      Female   Education         UK                        1      Low   \n",
      "2   65  Non-binary       Sales        USA                        1     High   \n",
      "3   34        Male       Other  Australia                        0      Low   \n",
      "4   22      Female  Healthcare     Canada                        1      Low   \n",
      "\n",
      "   Consultation_History Stress_Level  Sleep_Hours  Work_Hours  \\\n",
      "0                     1       Medium          7.1          46   \n",
      "1                     0          Low          7.5          47   \n",
      "2                     0          Low          8.4          58   \n",
      "3                     0       Medium          9.8          30   \n",
      "4                     0       Medium          4.9          62   \n",
      "\n",
      "   Physical_Activity_Hours  \n",
      "0                        5  \n",
      "1                        8  \n",
      "2                       10  \n",
      "3                        2  \n",
      "4                        5  \n"
     ]
    }
   ],
   "execution_count": 19
  },
  {
   "metadata": {},
   "cell_type": "markdown",
   "source": [
    "## Usando OneHotEncoder\n",
    "Aplicando o OneHotEncoder nas colunas:\n",
    "\n",
    "Gender\n",
    "\n",
    "Occupation\n",
    "\n",
    "Country\n",
    "\n",
    "Stress_Level\n",
    "\n",
    "Severity"
   ],
   "id": "8f34007e1cbb4598"
  },
  {
   "metadata": {
    "ExecuteTime": {
     "end_time": "2024-11-08T20:05:26.062911Z",
     "start_time": "2024-11-08T20:05:25.859418Z"
    }
   },
   "cell_type": "code",
   "source": [
    "# Importar OneHotEncoder\n",
    "from sklearn.preprocessing import OneHotEncoder\n",
    "\n",
    "# Aplicar OneHotEncoder nas colunas categóricas\n",
    "mental_health_encoded = pd.get_dummies(mental_health_cleaned, columns=['Gender', 'Occupation', 'Country', 'Stress_Level', 'Severity'], drop_first=True)\n",
    "\n",
    "# Exibir as primeiras linhas para verificar\n",
    "print(mental_health_encoded.head())\n"
   ],
   "id": "727b574b9a7e2d99",
   "outputs": [
    {
     "name": "stdout",
     "output_type": "stream",
     "text": [
      "   Age  Mental_Health_Condition  Consultation_History  Sleep_Hours  \\\n",
      "0   36                        0                     1          7.1   \n",
      "1   34                        1                     0          7.5   \n",
      "2   65                        1                     0          8.4   \n",
      "3   34                        0                     0          9.8   \n",
      "4   22                        1                     0          4.9   \n",
      "\n",
      "   Work_Hours  Physical_Activity_Hours  Gender_Male  Gender_Non-binary  \\\n",
      "0          46                        5        False               True   \n",
      "1          47                        8        False              False   \n",
      "2          58                       10        False               True   \n",
      "3          30                        2         True              False   \n",
      "4          62                        5        False              False   \n",
      "\n",
      "   Gender_Prefer not to say  Occupation_Engineering  ...  Country_Canada  \\\n",
      "0                     False                   False  ...            True   \n",
      "1                     False                   False  ...           False   \n",
      "2                     False                   False  ...           False   \n",
      "3                     False                   False  ...           False   \n",
      "4                     False                   False  ...            True   \n",
      "\n",
      "   Country_Germany  Country_India  Country_Other  Country_UK  Country_USA  \\\n",
      "0            False          False          False       False        False   \n",
      "1            False          False          False        True        False   \n",
      "2            False          False          False       False         True   \n",
      "3            False          False          False       False        False   \n",
      "4            False          False          False       False        False   \n",
      "\n",
      "   Stress_Level_Low  Stress_Level_Medium  Severity_Low  Severity_Medium  \n",
      "0             False                 True         False             True  \n",
      "1              True                False          True            False  \n",
      "2              True                False         False            False  \n",
      "3             False                 True          True            False  \n",
      "4             False                 True          True            False  \n",
      "\n",
      "[5 rows x 25 columns]\n"
     ]
    }
   ],
   "execution_count": 20
  },
  {
   "metadata": {},
   "cell_type": "markdown",
   "source": "",
   "id": "231556f6c2de88a7"
  },
  {
   "metadata": {},
   "cell_type": "markdown",
   "source": [
    "### Variáveis binárias (Mental_Health_Condition, Consultation_History) foram codificadas com LabelEncoder para 0 e 1.\n",
    "Variáveis categóricas (Gender, Occupation, Country, Stress_Level, Severity) foram codificadas com OneHotEncoder, criando colunas adicionais com valores booleanos."
   ],
   "id": "97d374d4a22eec62"
  },
  {
   "metadata": {},
   "cell_type": "markdown",
   "source": [
    "## Padronização e Normalização dos Dados\n",
    "\n",
    "utilizarei a padronização com StandardScaler, pois é mais robusta para dados com distribuição normal ou próxima da normal."
   ],
   "id": "13751b079f629688"
  },
  {
   "metadata": {},
   "cell_type": "markdown",
   "source": "",
   "id": "b030590bf3b5e51f"
  },
  {
   "metadata": {
    "ExecuteTime": {
     "end_time": "2024-11-08T20:12:44.890773Z",
     "start_time": "2024-11-08T20:12:44.481565Z"
    }
   },
   "cell_type": "code",
   "source": [
    "from sklearn.preprocessing import StandardScaler\n",
    "\n",
    "# Instanciar o StandardScaler\n",
    "scaler = StandardScaler()\n",
    "\n",
    "# Selecionar variáveis numéricas para padronização\n",
    "numerical_features = ['Age', 'Sleep_Hours', 'Work_Hours', 'Physical_Activity_Hours']\n",
    "\n",
    "# Aplicar padronização\n",
    "mental_health_encoded[numerical_features] = scaler.fit_transform(mental_health_encoded[numerical_features])\n",
    "\n",
    "# Exibir as primeiras linhas para verificar\n",
    "print(mental_health_encoded.head())\n"
   ],
   "id": "7294d404a8bf429c",
   "outputs": [
    {
     "name": "stdout",
     "output_type": "stream",
     "text": [
      "        Age  Mental_Health_Condition  Consultation_History  Sleep_Hours  \\\n",
      "0 -0.421829                        0                     1     0.002569   \n",
      "1 -0.565015                        1                     0     0.236077   \n",
      "2  1.654381                        1                     0     0.761470   \n",
      "3 -0.565015                        0                     0     1.578748   \n",
      "4 -1.424137                        1                     0    -1.281725   \n",
      "\n",
      "   Work_Hours  Physical_Activity_Hours  Gender_Male  Gender_Non-binary  \\\n",
      "0   -0.586396                -0.043503        False               True   \n",
      "1   -0.518376                 0.930439        False              False   \n",
      "2    0.229838                 1.579733        False               True   \n",
      "3   -1.674707                -1.017444         True              False   \n",
      "4    0.501915                -0.043503        False              False   \n",
      "\n",
      "   Gender_Prefer not to say  Occupation_Engineering  ...  Country_Canada  \\\n",
      "0                     False                   False  ...            True   \n",
      "1                     False                   False  ...           False   \n",
      "2                     False                   False  ...           False   \n",
      "3                     False                   False  ...           False   \n",
      "4                     False                   False  ...            True   \n",
      "\n",
      "   Country_Germany  Country_India  Country_Other  Country_UK  Country_USA  \\\n",
      "0            False          False          False       False        False   \n",
      "1            False          False          False        True        False   \n",
      "2            False          False          False       False         True   \n",
      "3            False          False          False       False        False   \n",
      "4            False          False          False       False        False   \n",
      "\n",
      "   Stress_Level_Low  Stress_Level_Medium  Severity_Low  Severity_Medium  \n",
      "0             False                 True         False             True  \n",
      "1              True                False          True            False  \n",
      "2              True                False         False            False  \n",
      "3             False                 True          True            False  \n",
      "4             False                 True          True            False  \n",
      "\n",
      "[5 rows x 25 columns]\n"
     ]
    }
   ],
   "execution_count": 21
  },
  {
   "metadata": {},
   "cell_type": "markdown",
   "source": [
    "### As variáveis numéricas (Age, Sleep_Hours, Work_Hours, Physical_Activity_Hours) foram padronizadas corretamente. Agora elas possuem média próxima de 0 e desvio padrão próximo de 1.\n",
    "As variáveis categóricas codificadas com OneHotEncoder foram mantidas como colunas booleanas (0 e 1), o que está perfeito para alimentar um modelo de machine learning."
   ],
   "id": "7b8f3235375a4eb"
  },
  {
   "metadata": {},
   "cell_type": "markdown",
   "source": "## Divisão dos Dados em Treino e Teste",
   "id": "a406b0e2a2b00ae2"
  },
  {
   "metadata": {
    "ExecuteTime": {
     "end_time": "2024-11-08T20:20:56.128626Z",
     "start_time": "2024-11-08T20:20:54.283428Z"
    }
   },
   "cell_type": "code",
   "source": [
    "from sklearn.model_selection import train_test_split\n",
    "\n",
    "# Definir variáveis preditoras (X) e alvo (y)\n",
    "X = mental_health_encoded.drop(columns=['Mental_Health_Condition'])\n",
    "y = mental_health_encoded['Mental_Health_Condition']\n",
    "\n",
    "# Dividir os dados (80% treino, 20% teste)\n",
    "X_train, X_test, y_train, y_test = train_test_split(X, y, test_size=0.2, random_state=42, stratify=y)\n",
    "\n",
    "# Exibir o tamanho dos conjuntos\n",
    "print(\"Tamanho do conjunto de treinamento:\", X_train.shape)\n",
    "print(\"Tamanho do conjunto de teste:\", X_test.shape)\n"
   ],
   "id": "30e418994fe48388",
   "outputs": [
    {
     "name": "stdout",
     "output_type": "stream",
     "text": [
      "Tamanho do conjunto de treinamento: (800, 24)\n",
      "Tamanho do conjunto de teste: (200, 24)\n"
     ]
    }
   ],
   "execution_count": 22
  },
  {
   "metadata": {},
   "cell_type": "markdown",
   "source": [
    "## Escolha do Algoritmo\n",
    "\n",
    "Testando Diferentes Modelos\n",
    "Vou testar vários modelos e avaliar suas performances:\n",
    "\n",
    "Regressão Logística\n",
    "\n",
    "K-Nearest Neighbors (KNN)\n",
    "\n",
    "Árvore de Decisão\n",
    "\n",
    "Random Forest\n",
    "\n",
    "Gradient Boosting (XGBoost)"
   ],
   "id": "3897d57d647ffdc6"
  },
  {
   "metadata": {
    "ExecuteTime": {
     "end_time": "2024-11-08T20:24:47.632124Z",
     "start_time": "2024-11-08T20:24:43.245637Z"
    }
   },
   "cell_type": "code",
   "source": [
    "from sklearn.linear_model import LogisticRegression\n",
    "from sklearn.neighbors import KNeighborsClassifier\n",
    "from sklearn.tree import DecisionTreeClassifier\n",
    "from sklearn.ensemble import RandomForestClassifier\n",
    "from xgboost import XGBClassifier\n",
    "from sklearn.metrics import accuracy_score\n",
    "import time\n",
    "\n",
    "# Lista de modelos para testar\n",
    "models = {\n",
    "    \"Logistic Regression\": LogisticRegression(random_state=42),\n",
    "    \"KNN\": KNeighborsClassifier(),\n",
    "    \"Decision Tree\": DecisionTreeClassifier(random_state=42),\n",
    "    \"Random Forest\": RandomForestClassifier(random_state=42),\n",
    "    \"XGBoost\": XGBClassifier(random_state=42, use_label_encoder=False, eval_metric='logloss')\n",
    "}\n",
    "\n",
    "# Avaliar cada modelo\n",
    "results = []\n",
    "for model_name, model in models.items():\n",
    "    start_time = time.time()\n",
    "    model.fit(X_train, y_train)\n",
    "    y_pred = model.predict(X_test)\n",
    "    accuracy = accuracy_score(y_test, y_pred)\n",
    "    duration = time.time() - start_time\n",
    "    results.append((model_name, accuracy, duration))\n",
    "\n",
    "# Exibir resultados\n",
    "print(f\"{'Modelo':<20} {'Acurácia':<10} {'Tempo (s)':<10}\")\n",
    "for result in results:\n",
    "    print(f\"{result[0]:<20} {result[1]:<10.4f} {result[2]:<10.2f}\")\n"
   ],
   "id": "3e87b3aca525b35",
   "outputs": [
    {
     "name": "stderr",
     "output_type": "stream",
     "text": [
      "C:\\Users\\karin\\OneDrive\\Área de Trabalho\\.venv\\Lib\\site-packages\\joblib\\externals\\loky\\backend\\context.py:136: UserWarning: Could not find the number of physical cores for the following reason:\n",
      "[WinError 2] O sistema não pode encontrar o arquivo especificado\n",
      "Returning the number of logical cores instead. You can silence this warning by setting LOKY_MAX_CPU_COUNT to the number of cores you want to use.\n",
      "  warnings.warn(\n",
      "  File \"C:\\Users\\karin\\OneDrive\\Área de Trabalho\\.venv\\Lib\\site-packages\\joblib\\externals\\loky\\backend\\context.py\", line 257, in _count_physical_cores\n",
      "    cpu_info = subprocess.run(\n",
      "               ^^^^^^^^^^^^^^^\n",
      "  File \"C:\\Users\\karin\\AppData\\Local\\Programs\\Python\\Python312\\Lib\\subprocess.py\", line 548, in run\n",
      "    with Popen(*popenargs, **kwargs) as process:\n",
      "         ^^^^^^^^^^^^^^^^^^^^^^^^^^^\n",
      "  File \"C:\\Users\\karin\\AppData\\Local\\Programs\\Python\\Python312\\Lib\\subprocess.py\", line 1026, in __init__\n",
      "    self._execute_child(args, executable, preexec_fn, close_fds,\n",
      "  File \"C:\\Users\\karin\\AppData\\Local\\Programs\\Python\\Python312\\Lib\\subprocess.py\", line 1538, in _execute_child\n",
      "    hp, ht, pid, tid = _winapi.CreateProcess(executable, args,\n",
      "                       ^^^^^^^^^^^^^^^^^^^^^^^^^^^^^^^^^^^^^^^\n"
     ]
    },
    {
     "name": "stdout",
     "output_type": "stream",
     "text": [
      "Modelo               Acurácia   Tempo (s) \n",
      "Logistic Regression  0.4950     0.12      \n",
      "KNN                  0.5200     0.38      \n",
      "Decision Tree        0.4750     0.02      \n",
      "Random Forest        0.5050     0.27      \n",
      "XGBoost              0.5000     0.25      \n"
     ]
    },
    {
     "name": "stderr",
     "output_type": "stream",
     "text": [
      "C:\\Users\\karin\\OneDrive\\Área de Trabalho\\.venv\\Lib\\site-packages\\xgboost\\core.py:158: UserWarning: [17:24:47] WARNING: C:\\buildkite-agent\\builds\\buildkite-windows-cpu-autoscaling-group-i-0015a694724fa8361-1\\xgboost\\xgboost-ci-windows\\src\\learner.cc:740: \n",
      "Parameters: { \"use_label_encoder\" } are not used.\n",
      "\n",
      "  warnings.warn(smsg, UserWarning)\n"
     ]
    }
   ],
   "execution_count": 23
  },
  {
   "metadata": {},
   "cell_type": "markdown",
   "source": "## Verificando Desbalanceamento de Classes",
   "id": "737cf00aa039f08a"
  },
  {
   "metadata": {
    "ExecuteTime": {
     "end_time": "2024-11-08T20:26:47.637710Z",
     "start_time": "2024-11-08T20:26:45.800616Z"
    }
   },
   "cell_type": "code",
   "source": [
    "import seaborn as sns\n",
    "import matplotlib.pyplot as plt\n",
    "\n",
    "# Verificar distribuição da variável alvo\n",
    "sns.countplot(x=y)\n",
    "plt.title(\"Distribuição da Variável Alvo (Mental_Health_Condition)\")\n",
    "plt.show()\n",
    "\n",
    "# Exibir proporção das classes\n",
    "class_distribution = y.value_counts(normalize=True)\n",
    "print(class_distribution)\n"
   ],
   "id": "d418bd2c23afd428",
   "outputs": [
    {
     "data": {
      "text/plain": [
       "<Figure size 640x480 with 1 Axes>"
      ],
      "image/png": "[encoded data removed]"
     },
     "metadata": {},
     "output_type": "display_data"
    },
    {
     "name": "stdout",
     "output_type": "stream",
     "text": [
      "Mental_Health_Condition\n",
      "1    0.515\n",
      "0    0.485\n",
      "Name: proportion, dtype: float64\n"
     ]
    }
   ],
   "execution_count": 24
  },
  {
   "metadata": {},
   "cell_type": "markdown",
   "source": [
    "### O dataset não está desbalanceado de forma significativa, já que a proporção entre as classes está relativamente próxima de 50/50.\n",
    "O baixo desempenho dos modelos não é causado por desbalanceamento de classes. \n",
    "\n",
    "É provável que o problema esteja relacionado a:\n",
    "Falta de poder preditivo das variáveis (as features atuais podem não estar capturando padrões claros).\n",
    "\n",
    "Configurações padrão dos modelos, que podem não ser ideais para este caso."
   ],
   "id": "9d21a20a92943a07"
  },
  {
   "metadata": {},
   "cell_type": "markdown",
   "source": [
    "## Ajuste de Hiperparâmetros\n",
    "Como o desbalanceamento não é o problema, vou focar em melhorar o desempenho ajustando os hiperparâmetros. \n",
    "\n",
    "Farei isso para o modelo Random Forest"
   ],
   "id": "6fa43ef849b6e45f"
  },
  {
   "metadata": {
    "ExecuteTime": {
     "end_time": "2024-11-08T20:30:05.838624Z",
     "start_time": "2024-11-08T20:28:50.995469Z"
    }
   },
   "cell_type": "code",
   "source": [
    "from sklearn.model_selection import GridSearchCV\n",
    "\n",
    "# Definir o grid de hiperparâmetros para testar\n",
    "param_grid = {\n",
    "    'n_estimators': [100, 200, 300],\n",
    "    'max_depth': [None, 10, 20, 30],\n",
    "    'min_samples_split': [2, 5, 10],\n",
    "    'min_samples_leaf': [1, 2, 4]\n",
    "}\n",
    "\n",
    "# Instanciar o GridSearchCV\n",
    "grid_search = GridSearchCV(estimator=RandomForestClassifier(random_state=42),\n",
    "                           param_grid=param_grid,\n",
    "                           cv=5,\n",
    "                           n_jobs=-1,\n",
    "                           verbose=2)\n",
    "\n",
    "# Ajustar o modelo com os dados de treinamento\n",
    "grid_search.fit(X_train, y_train)\n",
    "\n",
    "# Exibir os melhores hiperparâmetros encontrados\n",
    "print(\"Melhores Hiperparâmetros:\", grid_search.best_params_)\n",
    "\n",
    "# Avaliar o modelo ajustado\n",
    "best_model = grid_search.best_estimator_\n",
    "y_pred_best = best_model.predict(X_test)\n",
    "\n",
    "from sklearn.metrics import classification_report, accuracy_score\n",
    "print(\"Acurácia após ajuste de parâmetros:\", accuracy_score(y_test, y_pred_best))\n",
    "print(classification_report(y_test, y_pred_best))\n"
   ],
   "id": "5fd0fa0d258f587f",
   "outputs": [
    {
     "name": "stdout",
     "output_type": "stream",
     "text": [
      "Fitting 5 folds for each of 108 candidates, totalling 540 fits\n",
      "Melhores Hiperparâmetros: {'max_depth': None, 'min_samples_leaf': 2, 'min_samples_split': 2, 'n_estimators': 100}\n",
      "Acurácia após ajuste de parâmetros: 0.46\n",
      "              precision    recall  f1-score   support\n",
      "\n",
      "           0       0.43      0.35      0.39        97\n",
      "           1       0.48      0.56      0.52       103\n",
      "\n",
      "    accuracy                           0.46       200\n",
      "   macro avg       0.45      0.46      0.45       200\n",
      "weighted avg       0.46      0.46      0.45       200\n",
      "\n"
     ]
    }
   ],
   "execution_count": 25
  },
  {
   "metadata": {},
   "cell_type": "markdown",
   "source": [
    "## Análise dos Resultados do Ajuste de Hiperparâmetros:\n",
    "Melhores Hiperparâmetros:\n",
    "\n",
    "max_depth: None (sem limite de profundidade)\n",
    "min_samples_leaf: 2\n",
    "min_samples_split: 2\n",
    "n_estimators: 100\n",
    "Acurácia após ajuste: 0.46, que é mais baixa do que a acurácia original (~0.50) antes do ajuste. Isso indica que o ajuste de hiperparâmetros não melhorou o desempenho.\n",
    "\n",
    "Métricas de Avaliação:\n",
    "\n",
    "A precisão (precision) e o recall para ambas as classes são baixos, especialmente para a classe 0 (sem condição de saúde mental).\n",
    "O F1-score, que é uma média harmônica entre precisão e recall, também é baixo para ambas as classes.\n",
    "A acurácia geral e as métricas macro/micro médias sugerem que o modelo não está capturando bem os padrões dos dados.\n",
    "O Que Isso Significa?\n",
    "Os resultados indicam que ajustar hiperparâmetros não foi suficiente para melhorar o desempenho.\n",
    "O modelo está apresentando uma performance inferior a um classificador aleatório (acurácia em torno de 50%).\n",
    "Isso pode indicar que:\n",
    "As features não são informativas o suficiente para a predição.\n",
    "Pode haver multicolinearidade entre algumas variáveis.\n",
    "O problema pode estar na não-linearidade dos dados, e talvez um modelo mais complexo ou diferentes features sejam necessários."
   ],
   "id": "e0976105a650b1b3"
  },
  {
   "metadata": {},
   "cell_type": "markdown",
   "source": [
    "## Análise de Importância das Variáveis\n",
    "Verificando a importância das variáveis para entender quais features o modelo considera relevantes."
   ],
   "id": "216410ed7559447e"
  },
  {
   "metadata": {
    "ExecuteTime": {
     "end_time": "2024-11-09T01:43:21.752865Z",
     "start_time": "2024-11-09T01:43:19.916988Z"
    }
   },
   "cell_type": "code",
   "source": [
    "import matplotlib.pyplot as plt\n",
    "import seaborn as sns\n",
    "\n",
    "# Importância das features do Random Forest ajustado\n",
    "feature_importances = best_model.feature_importances_\n",
    "features = X.columns\n",
    "\n",
    "# Criar um DataFrame para visualização\n",
    "importance_df = pd.DataFrame({'Feature': features, 'Importance': feature_importances})\n",
    "importance_df = importance_df.sort_values(by='Importance', ascending=False)\n",
    "\n",
    "# Plotar as 10 variáveis mais importantes\n",
    "plt.figure(figsize=(12, 6))\n",
    "sns.barplot(x='Importance', y='Feature', data=importance_df.head(10), palette='viridis')\n",
    "plt.title('Top 10 Variáveis Mais Importantes')\n",
    "plt.show()\n"
   ],
   "id": "2904e2003e62cdbf",
   "outputs": [
    {
     "name": "stderr",
     "output_type": "stream",
     "text": [
      "C:\\Users\\karin\\AppData\\Local\\Temp\\ipykernel_16800\\4029071490.py:14: FutureWarning: \n",
      "\n",
      "Passing `palette` without assigning `hue` is deprecated and will be removed in v0.14.0. Assign the `y` variable to `hue` and set `legend=False` for the same effect.\n",
      "\n",
      "  sns.barplot(x='Importance', y='Feature', data=importance_df.head(10), palette='viridis')\n"
     ]
    },
    {
     "data": {
      "text/plain": [
       "<Figure size 1200x600 with 1 Axes>"
      ],
      "image/png": "[encoded data removed]"
     },
     "metadata": {},
     "output_type": "display_data"
    }
   ],
   "execution_count": 26
  },
  {
   "metadata": {},
   "cell_type": "markdown",
   "source": [
    "## Possíveis Melhorias Baseadas na Análise:\n",
    "Reduzir o Número de Features:\n",
    "\n",
    "Simplificar o modelo removendo variáveis de baixa importância. Isso pode ajudar a reduzir o overfitting e melhorar a generalização.\n",
    "Feature Engineering:\n",
    "\n",
    "Criar novas features, como uma interação entre Work_Hours e Sleep_Hours para capturar o impacto do equilíbrio entre trabalho e sono.\n",
    "\n",
    "Explorar Modelos Não-Lineares:\n",
    "\n",
    "Dado que variáveis como Sleep_Hours e Work_Hours são importantes, o relacionamento com a variável alvo pode ser não-linear. Testar modelos como Redes Neurais ou Support Vector Machines (SVM) pode capturar esses padrões complexos.\n",
    "Ensemble Learning:\n",
    "\n",
    "Combinar diferentes modelos usando técnicas como Stacking Classifier pode ajudar a capturar diferentes padrões e melhorar o desempenho."
   ],
   "id": "d07152c30abc8e20"
  },
  {
   "metadata": {},
   "cell_type": "markdown",
   "source": [
    "## Simplificação do Modelo\n",
    "Com base no gráfico de importância das variáveis, vou selecionar apenas as features mais relevantes. Vou considerar as variáveis que mostraram ter maior impacto, até o Consultation_History (que teve uma queda notável na importância). As features a serem mantidas serão:\n",
    "\n",
    "Sleep_Hours\n",
    "\n",
    "Age\n",
    "\n",
    "Work_Hours\n",
    "\n",
    "Physical_Activity_Hours\n",
    "\n",
    "Consultation_History"
   ],
   "id": "d91089eadb01b0b1"
  },
  {
   "metadata": {
    "ExecuteTime": {
     "end_time": "2024-11-09T03:05:47.872366Z",
     "start_time": "2024-11-09T03:05:44.694383Z"
    }
   },
   "cell_type": "code",
   "source": [
    "from sklearn.ensemble import RandomForestClassifier\n",
    "from sklearn.metrics import classification_report, accuracy_score\n",
    "from sklearn.model_selection import train_test_split\n",
    "\n",
    "# Selecionar apenas as features mais importantes\n",
    "selected_features = ['Sleep_Hours', 'Age', 'Work_Hours', 'Physical_Activity_Hours', 'Consultation_History']\n",
    "X_simplified = mental_health_encoded[selected_features]\n",
    "y = mental_health_encoded['Mental_Health_Condition']\n",
    "\n",
    "# Dividir os dados em treino e teste\n",
    "X_train, X_test, y_train, y_test = train_test_split(X_simplified, y, test_size=0.2, random_state=42, stratify=y)\n",
    "\n",
    "# Instanciar e treinar o modelo Random Forest\n",
    "simplified_rf_model = RandomForestClassifier(random_state=42)\n",
    "simplified_rf_model.fit(X_train, y_train)\n",
    "\n",
    "# Fazer previsões e avaliar o modelo\n",
    "y_pred_simplified = simplified_rf_model.predict(X_test)\n",
    "\n",
    "# Avaliar o modelo simplificado\n",
    "print(\"Acurácia do Modelo Simplificado:\", accuracy_score(y_test, y_pred_simplified))\n",
    "print(\"Relatório de Classificação:\\n\", classification_report(y_test, y_pred_simplified))\n"
   ],
   "id": "6b95034b21df6c86",
   "outputs": [
    {
     "name": "stdout",
     "output_type": "stream",
     "text": [
      "Acurácia do Modelo Simplificado: 0.45\n",
      "Relatório de Classificação:\n",
      "               precision    recall  f1-score   support\n",
      "\n",
      "           0       0.42      0.36      0.39        97\n",
      "           1       0.47      0.53      0.50       103\n",
      "\n",
      "    accuracy                           0.45       200\n",
      "   macro avg       0.45      0.45      0.44       200\n",
      "weighted avg       0.45      0.45      0.45       200\n",
      "\n"
     ]
    }
   ],
   "execution_count": 27
  },
  {
   "metadata": {},
   "cell_type": "markdown",
   "source": [
    "##  Regressão Logística e Validação Cruzada\n",
    "\n",
    "Como a Logistic Regression é mais simples e pode lidar bem com datasets de baixa dimensionalidade, podemos treinar e avaliar este modelo para ver se ele captura melhor os padrões.\n",
    "Análise de Interações entre Features:\n",
    "\n",
    "Podemos explorar interações entre as features, especialmente entre Sleep_Hours, Work_Hours, e Physical_Activity_Hours, criando novas variáveis que capturem essas relações.\n",
    "Utilizar Validação Cruzada:\n",
    "\n",
    "Aplicar validação cruzada pode ajudar a avaliar melhor o desempenho do modelo e evitar overfitting."
   ],
   "id": "5974922485ad55ec"
  },
  {
   "metadata": {
    "ExecuteTime": {
     "end_time": "2024-11-09T03:29:44.259143Z",
     "start_time": "2024-11-09T03:29:31.978Z"
    }
   },
   "cell_type": "code",
   "source": [
    "from sklearn.linear_model import LogisticRegression\n",
    "from sklearn.model_selection import cross_val_score\n",
    "from sklearn.metrics import classification_report, accuracy_score\n",
    "\n",
    "# Instanciar o modelo Logistic Regression\n",
    "log_reg_model = LogisticRegression(random_state=42)\n",
    "\n",
    "# Aplicar validação cruzada\n",
    "cv_scores = cross_val_score(log_reg_model, X_simplified, y, cv=5)\n",
    "print(\"Acurácia média da Validação Cruzada:\", cv_scores.mean())\n",
    "\n",
    "# Treinar o modelo Logistic Regression\n",
    "log_reg_model.fit(X_train, y_train)\n",
    "\n",
    "# Fazer previsões e avaliar o modelo\n",
    "y_pred_log_reg = log_reg_model.predict(X_test)\n",
    "\n",
    "# Avaliar o desempenho\n",
    "print(\"Acurácia da Regressão Logística:\", accuracy_score(y_test, y_pred_log_reg))\n",
    "print(\"Relatório de Classificação:\\n\", classification_report(y_test, y_pred_log_reg))\n"
   ],
   "id": "ef6ca05278580bfc",
   "outputs": [
    {
     "name": "stdout",
     "output_type": "stream",
     "text": [
      "Acurácia média da Validação Cruzada: 0.497\n",
      "Acurácia da Regressão Logística: 0.505\n",
      "Relatório de Classificação:\n",
      "               precision    recall  f1-score   support\n",
      "\n",
      "           0       0.49      0.37      0.42        97\n",
      "           1       0.52      0.63      0.57       103\n",
      "\n",
      "    accuracy                           0.51       200\n",
      "   macro avg       0.50      0.50      0.49       200\n",
      "weighted avg       0.50      0.51      0.50       200\n",
      "\n"
     ]
    }
   ],
   "execution_count": 33
  },
  {
   "metadata": {},
   "cell_type": "markdown",
   "source": [
    "## Ajuste de Hiperparâmetros com GridSearchCV\n",
    "Vamos começar ajustando o hiperparâmetro C da Regressão Logística. Esse hiperparâmetro controla a regularização do modelo: valores menores de C aumentam a regularização (penalizam mais os coeficientes), enquanto valores maiores reduzem a regularização."
   ],
   "id": "c40615a2b027bae2"
  },
  {
   "metadata": {
    "ExecuteTime": {
     "end_time": "2024-11-09T03:32:36.923673Z",
     "start_time": "2024-11-09T03:32:21.694411Z"
    }
   },
   "cell_type": "code",
   "source": [
    "from sklearn.linear_model import LogisticRegression\n",
    "from sklearn.model_selection import GridSearchCV\n",
    "\n",
    "# Definir o grid de hiperparâmetros\n",
    "param_grid = {\n",
    "    'C': [0.001, 0.01, 0.1, 1, 10, 100],\n",
    "    'penalty': ['l2'],\n",
    "    'solver': ['lbfgs']\n",
    "}\n",
    "\n",
    "# Instanciar o GridSearchCV\n",
    "grid_search = GridSearchCV(LogisticRegression(random_state=42, max_iter=1000), param_grid, cv=5, n_jobs=-1, verbose=2)\n",
    "grid_search.fit(X_train, y_train)\n",
    "\n",
    "# Exibir os melhores hiperparâmetros encontrados\n",
    "print(\"Melhores Hiperparâmetros:\", grid_search.best_params_)\n",
    "\n",
    "# Avaliar o modelo ajustado\n",
    "best_log_reg_model = grid_search.best_estimator_\n",
    "y_pred_best = best_log_reg_model.predict(X_test)\n",
    "\n",
    "from sklearn.metrics import classification_report, accuracy_score\n",
    "print(\"Acurácia após Ajuste de Hiperparâmetros:\", accuracy_score(y_test, y_pred_best))\n",
    "print(\"Relatório de Classificação:\\n\", classification_report(y_test, y_pred_best))\n"
   ],
   "id": "cebae7ba786b12a1",
   "outputs": [
    {
     "name": "stdout",
     "output_type": "stream",
     "text": [
      "Fitting 5 folds for each of 6 candidates, totalling 30 fits\n",
      "Melhores Hiperparâmetros: {'C': 0.001, 'penalty': 'l2', 'solver': 'lbfgs'}\n",
      "Acurácia após Ajuste de Hiperparâmetros: 0.515\n",
      "Relatório de Classificação:\n",
      "               precision    recall  f1-score   support\n",
      "\n",
      "           0       0.00      0.00      0.00        97\n",
      "           1       0.52      1.00      0.68       103\n",
      "\n",
      "    accuracy                           0.52       200\n",
      "   macro avg       0.26      0.50      0.34       200\n",
      "weighted avg       0.27      0.52      0.35       200\n",
      "\n"
     ]
    },
    {
     "name": "stderr",
     "output_type": "stream",
     "text": [
      "C:\\Users\\karin\\OneDrive\\Área de Trabalho\\.venv\\Lib\\site-packages\\sklearn\\metrics\\_classification.py:1531: UndefinedMetricWarning: Precision is ill-defined and being set to 0.0 in labels with no predicted samples. Use `zero_division` parameter to control this behavior.\n",
      "  _warn_prf(average, modifier, f\"{metric.capitalize()} is\", len(result))\n",
      "C:\\Users\\karin\\OneDrive\\Área de Trabalho\\.venv\\Lib\\site-packages\\sklearn\\metrics\\_classification.py:1531: UndefinedMetricWarning: Precision is ill-defined and being set to 0.0 in labels with no predicted samples. Use `zero_division` parameter to control this behavior.\n",
      "  _warn_prf(average, modifier, f\"{metric.capitalize()} is\", len(result))\n",
      "C:\\Users\\karin\\OneDrive\\Área de Trabalho\\.venv\\Lib\\site-packages\\sklearn\\metrics\\_classification.py:1531: UndefinedMetricWarning: Precision is ill-defined and being set to 0.0 in labels with no predicted samples. Use `zero_division` parameter to control this behavior.\n",
      "  _warn_prf(average, modifier, f\"{metric.capitalize()} is\", len(result))\n"
     ]
    }
   ],
   "execution_count": 34
  },
  {
   "metadata": {},
   "cell_type": "markdown",
   "source": [
    "### Problema 1: Alta Regularização (C = 0.001)\n",
    "A escolha de um valor muito pequeno para C força o modelo de Regressão Logística a ser altamente simplificado, resultando em underfitting.\n",
    "\n",
    "Solução:\n",
    "Aumentar o valor de C para permitir que o modelo tenha mais flexibilidade.\n",
    "\n",
    "Tente valores maiores de C, como 10, 100, ou até mesmo 1000.\n",
    "Utilize validação cruzada para testar diferentes valores de C e encontrar um equilíbrio entre underfitting e overfitting."
   ],
   "id": "277b0fc2b66f1d73"
  },
  {
   "metadata": {
    "ExecuteTime": {
     "end_time": "2024-11-09T03:47:04.631249Z",
     "start_time": "2024-11-09T03:46:57.589929Z"
    }
   },
   "cell_type": "code",
   "source": [
    "# Ajustar o modelo com um valor maior de C\n",
    "log_reg_adjusted = LogisticRegression(C=10, penalty='l2', solver='lbfgs', random_state=42, max_iter=1000)\n",
    "log_reg_adjusted.fit(X_train, y_train)\n",
    "\n",
    "# Avaliar o modelo ajustado\n",
    "y_pred_adjusted = log_reg_adjusted.predict(X_test)\n",
    "print(\"Acurácia com C ajustado:\", accuracy_score(y_test, y_pred_adjusted))\n",
    "print(\"Relatório de Classificação:\\n\", classification_report(y_test, y_pred_adjusted))\n"
   ],
   "id": "84c2f01282502803",
   "outputs": [
    {
     "name": "stdout",
     "output_type": "stream",
     "text": [
      "Acurácia com C ajustado: 0.505\n",
      "Relatório de Classificação:\n",
      "               precision    recall  f1-score   support\n",
      "\n",
      "           0       0.49      0.37      0.42        97\n",
      "           1       0.52      0.63      0.57       103\n",
      "\n",
      "    accuracy                           0.51       200\n",
      "   macro avg       0.50      0.50      0.49       200\n",
      "weighted avg       0.50      0.51      0.50       200\n",
      "\n"
     ]
    }
   ],
   "execution_count": 37
  },
  {
   "metadata": {},
   "cell_type": "markdown",
   "source": [
    "## Problema 2: Falta de Informação nas Features\n",
    "As features disponíveis não parecem ser suficientes para capturar os padrões subjacentes entre as classes. Isso leva a um desempenho insatisfatório.\n",
    "\n",
    "Solução:\n",
    "Aplicar Feature Engineering para criar novas variáveis e capturar relações complexas.\n",
    "\n",
    "Crie variáveis como Work-Life Balance (Work_Hours / Sleep_Hours) e Activity-Stress Index (Physical_Activity_Hours * Stress_Level_Low)."
   ],
   "id": "74a07f6cf81d30f6"
  },
  {
   "metadata": {
    "ExecuteTime": {
     "end_time": "2024-11-09T03:48:42.782837Z",
     "start_time": "2024-11-09T03:48:31.424520Z"
    }
   },
   "cell_type": "code",
   "source": [
    "# Criar novas features\n",
    "mental_health_encoded['Work_Life_Balance'] = mental_health_encoded['Work_Hours'] / (mental_health_encoded['Sleep_Hours'] + 1e-5)\n",
    "mental_health_encoded['Activity_Stress_Index'] = mental_health_encoded['Physical_Activity_Hours'] * mental_health_encoded['Stress_Level_Low']\n",
    "\n",
    "# Selecionar as features e treinar o modelo novamente\n",
    "selected_features = ['Sleep_Hours', 'Age', 'Work_Hours', 'Physical_Activity_Hours', 'Work_Life_Balance', 'Activity_Stress_Index']\n",
    "X_new = mental_health_encoded[selected_features]\n",
    "\n",
    "# Repetir a divisão treino-teste e treinar o modelo ajustado\n",
    "X_train, X_test, y_train, y_test = train_test_split(X_new, y, test_size=0.2, random_state=42, stratify=y)\n",
    "log_reg_model = LogisticRegression(C=1, penalty='l2', solver='lbfgs', random_state=42, max_iter=1000)\n",
    "log_reg_model.fit(X_train, y_train)\n",
    "\n",
    "# Avaliar o modelo ajustado\n",
    "y_pred_new = log_reg_model.predict(X_test)\n",
    "print(\"Acurácia com novas features:\", accuracy_score(y_test, y_pred_new))\n",
    "print(\"Relatório de Classificação:\\n\", classification_report(y_test, y_pred_new))\n"
   ],
   "id": "df39aa075ac581cd",
   "outputs": [
    {
     "name": "stdout",
     "output_type": "stream",
     "text": [
      "Acurácia com novas features: 0.535\n",
      "Relatório de Classificação:\n",
      "               precision    recall  f1-score   support\n",
      "\n",
      "           0       0.53      0.35      0.42        97\n",
      "           1       0.54      0.71      0.61       103\n",
      "\n",
      "    accuracy                           0.54       200\n",
      "   macro avg       0.53      0.53      0.52       200\n",
      "weighted avg       0.53      0.54      0.52       200\n",
      "\n"
     ]
    }
   ],
   "execution_count": 38
  },
  {
   "metadata": {
    "ExecuteTime": {
     "end_time": "2024-11-09T03:53:35.130173Z",
     "start_time": "2024-11-09T03:53:14.314965Z"
    }
   },
   "cell_type": "code",
   "source": [
    "from imblearn.over_sampling import SMOTE\n",
    "from sklearn.linear_model import LogisticRegression\n",
    "from sklearn.metrics import classification_report, accuracy_score\n",
    "\n",
    "# Aplicar SMOTE para balancear o conjunto de treino\n",
    "smote = SMOTE(random_state=42)\n",
    "X_resampled, y_resampled = smote.fit_resample(X_train, y_train)\n",
    "\n",
    "# Treinar o modelo de Regressão Logística com dados balanceados e novas features\n",
    "log_reg_smote = LogisticRegression(C=10, penalty='l2', solver='lbfgs', random_state=42, max_iter=1000)\n",
    "log_reg_smote.fit(X_resampled, y_resampled)\n",
    "\n",
    "# Fazer previsões e avaliar o modelo\n",
    "y_pred_smote = log_reg_smote.predict(X_test)\n",
    "\n",
    "# Avaliar o desempenho após SMOTE\n",
    "print(\"Acurácia após SMOTE:\", accuracy_score(y_test, y_pred_smote))\n",
    "print(\"Relatório de Classificação após SMOTE:\\n\", classification_report(y_test, y_pred_smote))\n"
   ],
   "id": "3273fef6d9668aac",
   "outputs": [
    {
     "name": "stdout",
     "output_type": "stream",
     "text": [
      "Acurácia após SMOTE: 0.51\n",
      "Relatório de Classificação após SMOTE:\n",
      "               precision    recall  f1-score   support\n",
      "\n",
      "           0       0.50      0.60      0.54        97\n",
      "           1       0.53      0.43      0.47       103\n",
      "\n",
      "    accuracy                           0.51       200\n",
      "   macro avg       0.51      0.51      0.51       200\n",
      "weighted avg       0.51      0.51      0.51       200\n",
      "\n"
     ]
    }
   ],
   "execution_count": 41
  },
  {
   "metadata": {},
   "cell_type": "markdown",
   "source": "### A aplicação de SMOTE ajudou a melhorar o recall da classe 0, o que era um problema identificado anteriormente",
   "id": "39067cb5c8d3e694"
  },
  {
   "metadata": {},
   "cell_type": "markdown",
   "source": "",
   "id": "faf75606caa6a513"
  },
  {
   "metadata": {},
   "cell_type": "markdown",
   "source": [
    "## Treinamento e Avaliação com XGBoost\n",
    "Treinar o modelo XGBoost usando os dados balanceados com SMOTE.\n",
    "Avaliar o desempenho do modelo com acurácia, precision, recall e F1-score."
   ],
   "id": "ef801dacd2a2ed2e"
  },
  {
   "metadata": {
    "ExecuteTime": {
     "end_time": "2024-11-09T03:56:42.214092Z",
     "start_time": "2024-11-09T03:56:27.190272Z"
    }
   },
   "cell_type": "code",
   "source": [
    "from xgboost import XGBClassifier\n",
    "from sklearn.metrics import classification_report, accuracy_score\n",
    "\n",
    "# Instanciar o modelo XGBoost\n",
    "xgb_model = XGBClassifier(random_state=42, use_label_encoder=False, eval_metric='logloss')\n",
    "\n",
    "# Treinar o modelo com os dados balanceados (após SMOTE)\n",
    "xgb_model.fit(X_resampled, y_resampled)\n",
    "\n",
    "# Fazer previsões e avaliar o desempenho\n",
    "y_pred_xgb = xgb_model.predict(X_test)\n",
    "\n",
    "# Avaliar o desempenho do modelo\n",
    "print(\"Acurácia com XGBoost:\", accuracy_score(y_test, y_pred_xgb))\n",
    "print(\"Relatório de Classificação com XGBoost:\\n\", classification_report(y_test, y_pred_xgb))\n"
   ],
   "id": "ec1d76afad7b40d9",
   "outputs": [
    {
     "name": "stderr",
     "output_type": "stream",
     "text": [
      "C:\\Users\\karin\\OneDrive\\Área de Trabalho\\.venv\\Lib\\site-packages\\xgboost\\core.py:158: UserWarning: [00:56:41] WARNING: C:\\buildkite-agent\\builds\\buildkite-windows-cpu-autoscaling-group-i-0015a694724fa8361-1\\xgboost\\xgboost-ci-windows\\src\\learner.cc:740: \n",
      "Parameters: { \"use_label_encoder\" } are not used.\n",
      "\n",
      "  warnings.warn(smsg, UserWarning)\n"
     ]
    },
    {
     "name": "stdout",
     "output_type": "stream",
     "text": [
      "Acurácia com XGBoost: 0.45\n",
      "Relatório de Classificação com XGBoost:\n",
      "               precision    recall  f1-score   support\n",
      "\n",
      "           0       0.44      0.46      0.45        97\n",
      "           1       0.46      0.44      0.45       103\n",
      "\n",
      "    accuracy                           0.45       200\n",
      "   macro avg       0.45      0.45      0.45       200\n",
      "weighted avg       0.45      0.45      0.45       200\n",
      "\n"
     ]
    }
   ],
   "execution_count": 42
  },
  {
   "metadata": {},
   "cell_type": "markdown",
   "source": [
    "## Aplicação de PCA\n",
    "Padronizar os dados, pois o PCA é sensível à escala.\n",
    "Aplicar o PCA e reduzir a dimensionalidade para as componentes principais que explicam a maior parte da variância.\n",
    "Treinar o modelo de Regressão Logística ou XGBoost com as componentes principais."
   ],
   "id": "fd9ceccdcd8006"
  },
  {
   "metadata": {
    "ExecuteTime": {
     "end_time": "2024-11-09T03:58:16.018202Z",
     "start_time": "2024-11-09T03:58:15.663925Z"
    }
   },
   "cell_type": "code",
   "source": [
    "from sklearn.decomposition import PCA\n",
    "from sklearn.preprocessing import StandardScaler\n",
    "from sklearn.linear_model import LogisticRegression\n",
    "from sklearn.metrics import classification_report, accuracy_score\n",
    "\n",
    "# Padronizar os dados\n",
    "scaler = StandardScaler()\n",
    "X_resampled_scaled = scaler.fit_transform(X_resampled)\n",
    "X_test_scaled = scaler.transform(X_test)\n",
    "\n",
    "# Aplicar PCA e selecionar componentes principais que explicam 95% da variância\n",
    "pca = PCA(n_components=0.95, random_state=42)\n",
    "X_resampled_pca = pca.fit_transform(X_resampled_scaled)\n",
    "X_test_pca = pca.transform(X_test_scaled)\n",
    "\n",
    "print(f\"Redução de dimensionalidade: {X_resampled_scaled.shape[1]} para {X_resampled_pca.shape[1]} componentes principais\")\n",
    "\n",
    "# Treinar o modelo de Regressão Logística com os dados reduzidos\n",
    "log_reg_pca = LogisticRegression(C=10, penalty='l2', solver='lbfgs', random_state=42, max_iter=1000)\n",
    "log_reg_pca.fit(X_resampled_pca, y_resampled)\n",
    "\n",
    "# Fazer previsões e avaliar o desempenho\n",
    "y_pred_pca = log_reg_pca.predict(X_test_pca)\n",
    "\n",
    "# Avaliar o desempenho do modelo\n",
    "print(\"Acurácia após PCA:\", accuracy_score(y_test, y_pred_pca))\n",
    "print(\"Relatório de Classificação após PCA:\\n\", classification_report(y_test, y_pred_pca))\n"
   ],
   "id": "62deab2fe5eddd6",
   "outputs": [
    {
     "name": "stdout",
     "output_type": "stream",
     "text": [
      "Redução de dimensionalidade: 6 para 6 componentes principais\n",
      "Acurácia após PCA: 0.51\n",
      "Relatório de Classificação após PCA:\n",
      "               precision    recall  f1-score   support\n",
      "\n",
      "           0       0.50      0.60      0.54        97\n",
      "           1       0.53      0.43      0.47       103\n",
      "\n",
      "    accuracy                           0.51       200\n",
      "   macro avg       0.51      0.51      0.51       200\n",
      "weighted avg       0.51      0.51      0.51       200\n",
      "\n"
     ]
    }
   ],
   "execution_count": 43
  },
  {
   "metadata": {},
   "cell_type": "markdown",
   "source": "### Melhor Abordagem Identificada: A combinação de feature engineering, ajuste de hiperparâmetros e uso de SMOTE foi o que trouxe a maior melhoria. A aplicação de PCA ajudou a balancear o modelo.",
   "id": "73d5b1632558f7ed"
  },
  {
   "metadata": {},
   "cell_type": "code",
   "outputs": [],
   "execution_count": null,
   "source": "",
   "id": "933b3997524ede90"
  }
 ],
 "metadata": {
  "kernelspec": {
   "display_name": "Python 3",
   "language": "python",
   "name": "python3"
  },
  "language_info": {
   "codemirror_mode": {
    "name": "ipython",
    "version": 2
   },
   "file_extension": ".py",
   "mimetype": "text/x-python",
   "name": "python",
   "nbconvert_exporter": "python",
   "pygments_lexer": "ipython2",
   "version": "2.7.6"
  }
 },
 "nbformat": 4,
 "nbformat_minor": 5
}
